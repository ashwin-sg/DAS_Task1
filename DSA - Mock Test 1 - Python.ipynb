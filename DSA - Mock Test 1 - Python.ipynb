{
 "cells": [
  {
   "cell_type": "markdown",
   "id": "0d8a7757",
   "metadata": {},
   "source": [
    "#### Task 1"
   ]
  },
  {
   "cell_type": "markdown",
   "id": "dbb82f8f",
   "metadata": {},
   "source": [
    "Move Zeroes\n",
    "Given an integer array nums, move all 0's to the end of it while maintaining the relative order of the non-zero elements.\n",
    "\n",
    "Note that you must do this in-place without making a copy of the array.\n",
    "\n",
    "Example 1:\n",
    "Input: nums = [0,1,0,3,12]\n",
    "Output: [1,3,12,0,0]\n",
    "\n",
    "Example 2:\n",
    "Input: nums = [0]\n",
    "Output: [0]\n",
    "\n",
    "Constraints:\n",
    "a. 1 <= nums.length <= 10^4\n",
    "b. -2^31 <= nums[i] <= 2^31 - 1\n",
    "\n",
    "Note: Create a GitHub file for the solution and add the file link the the answer section below."
   ]
  },
  {
   "cell_type": "code",
   "execution_count": 1,
   "id": "e510728b",
   "metadata": {},
   "outputs": [
    {
     "name": "stdout",
     "output_type": "stream",
     "text": [
      "[1, 3, 12, 0, 0]\n"
     ]
    }
   ],
   "source": [
    "#given list\n",
    "nums = [0,1,0,3,12]\n",
    "\n",
    "#create logic\n",
    "for i in range(0,len(nums)):\n",
    "    if -2^31 <= nums[i] <= 2^31 - 1:\n",
    "        if (1 <= len(nums) <= 10^4):\n",
    "            cal=0\n",
    "            for j in nums:\n",
    "                if j==0:\n",
    "                    cal = cal+1\n",
    "            for k in range(0,cal):\n",
    "                for i in range(0,len(nums)-1):\n",
    "                    if nums[i]==0:\n",
    "                        nums[i],nums[i+1]=nums[i+1],nums[i]\n",
    "        else:\n",
    "            print('Wrong Input is given')\n",
    "    else:\n",
    "        print('Wrong Input is given')\n",
    "print(nums) #print output"
   ]
  },
  {
   "cell_type": "markdown",
   "id": "a7513075",
   "metadata": {},
   "source": [
    "#### Task 2 "
   ]
  },
  {
   "cell_type": "markdown",
   "id": "5b0b69f1",
   "metadata": {},
   "source": [
    "First Unique Character in a String\n",
    "\n",
    "Given a string s, find the first non-repeating character in it and return its index. If it does not exist, return -1.\n",
    "\n",
    "Example 1:\n",
    "Input: s = \"leetcode\"\n",
    "Output: 0\n",
    "\n",
    "Example 2:\n",
    "Input: s = \"loveleetcode\"\n",
    "Output: 2\n",
    "\n",
    "Example 3:\n",
    "Input: s = \"aabb\"\n",
    "Output: -1\n",
    "\n",
    "Constraints:\n",
    "a. 1 <= s.length <= 10^5\n",
    "b. s consists of only lowercase English letters.\n",
    "\n",
    "Note: Create a GitHub file for the solution and add the file link the the answer section below."
   ]
  },
  {
   "cell_type": "code",
   "execution_count": 3,
   "id": "e104f7dd",
   "metadata": {},
   "outputs": [
    {
     "name": "stdout",
     "output_type": "stream",
     "text": [
      "2\n",
      "--------------------------------------\n",
      "0\n",
      "--------------------------------------\n",
      "-1\n"
     ]
    }
   ],
   "source": [
    "#define function\n",
    "def getuniqcharposn(s):\n",
    "    for char in s:\n",
    "            if char.islower()==True:\n",
    "                if (1 <= len(s) <= 10^5):\n",
    "                    for i in s:\n",
    "                        if s.count(i)==1:\n",
    "                            print(s.index(i))\n",
    "                            break\n",
    "                    else:\n",
    "                        print(-1)\n",
    "            break\n",
    "\n",
    "#call function            \n",
    "getuniqcharposn('loveleetcode')\n",
    "print('--------------------------------------')\n",
    "getuniqcharposn('leetcode')\n",
    "print('--------------------------------------')\n",
    "getuniqcharposn('aabb')"
   ]
  },
  {
   "cell_type": "code",
   "execution_count": null,
   "id": "d5f73588",
   "metadata": {},
   "outputs": [],
   "source": []
  },
  {
   "cell_type": "code",
   "execution_count": null,
   "id": "c834ef05",
   "metadata": {},
   "outputs": [],
   "source": []
  },
  {
   "cell_type": "code",
   "execution_count": null,
   "id": "3bf495fd",
   "metadata": {},
   "outputs": [],
   "source": []
  }
 ],
 "metadata": {
  "kernelspec": {
   "display_name": "Python 3",
   "language": "python",
   "name": "python3"
  },
  "language_info": {
   "codemirror_mode": {
    "name": "ipython",
    "version": 3
   },
   "file_extension": ".py",
   "mimetype": "text/x-python",
   "name": "python",
   "nbconvert_exporter": "python",
   "pygments_lexer": "ipython3",
   "version": "3.8.10"
  }
 },
 "nbformat": 4,
 "nbformat_minor": 5
}
